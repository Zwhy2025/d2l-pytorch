{
 "cells": [
  {
   "cell_type": "markdown",
   "metadata": {},
   "source": [
    "# \n",
    "- Alexnet 更加深的神经网络,开创了GPU计算\n",
    "- VGG 16/19 有规则的网络结构,块状网络设计\n",
    "- NiN 网络中的网络,抛弃了全连接层,使用1x1卷积核,一种特殊的全连接层\n",
    "\n"
   ]
  }
 ],
 "metadata": {
  "language_info": {
   "name": "python"
  }
 },
 "nbformat": 4,
 "nbformat_minor": 2
}
