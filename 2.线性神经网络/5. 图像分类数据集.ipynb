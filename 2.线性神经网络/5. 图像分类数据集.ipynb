{
 "cells": [
  {
   "cell_type": "markdown",
   "id": "a7443ef5",
   "metadata": {
    "origin_pos": 0
   },
   "source": [
    "# 图像分类数据集\n",
    ":label:`sec_fashion_mnist`\n",
    "\n",
    "(**MNIST数据集**) :cite:`LeCun.Bottou.Bengio.ea.1998`\n",
    "(**是图像分类中广泛使用的数据集之一，但作为基准数据集过于简单。\n",
    "我们将使用类似但更复杂的Fashion-MNIST数据集**) :cite:`Xiao.Rasul.Vollgraf.2017`。\n"
   ]
  },
  {
   "cell_type": "code",
   "execution_count": 1,
   "id": "726c5142",
   "metadata": {
    "execution": {
     "iopub.execute_input": "2022-12-07T16:28:05.346942Z",
     "iopub.status.busy": "2022-12-07T16:28:05.346332Z",
     "iopub.status.idle": "2022-12-07T16:28:07.533165Z",
     "shell.execute_reply": "2022-12-07T16:28:07.532343Z"
    },
    "origin_pos": 2,
    "tab": [
     "pytorch"
    ]
   },
   "outputs": [],
   "source": [
    "%matplotlib inline \n",
    "import torch\n",
    "import torchvision  \n",
    "from torch.utils import data # 读取数据集\n",
    "from torchvision import transforms # 数据预处理\n",
    "from d2l import torch as d2l \n",
    "\n",
    "d2l.use_svg_display()  # 用矢量图显示"
   ]
  },
  {
   "cell_type": "markdown",
   "id": "30e592f6",
   "metadata": {
    "origin_pos": 5
   },
   "source": [
    "## 读取数据集\n",
    "\n",
    "我们可以[**通过框架中的内置函数将Fashion-MNIST数据集下载并读取到内存中**]。\n"
   ]
  },
  {
   "cell_type": "code",
   "execution_count": 2,
   "id": "8c8219f9",
   "metadata": {
    "execution": {
     "iopub.execute_input": "2022-12-07T16:28:07.537349Z",
     "iopub.status.busy": "2022-12-07T16:28:07.536791Z",
     "iopub.status.idle": "2022-12-07T16:28:15.079938Z",
     "shell.execute_reply": "2022-12-07T16:28:15.079111Z"
    },
    "origin_pos": 7,
    "tab": [
     "pytorch"
    ]
   },
   "outputs": [],
   "source": [
    "# 通过ToTensor实例将图像数据从PIL类型变换成32位浮点数格式，\n",
    "# 并除以255使得所有像素的数值均在0～1之间\n",
    "trans = transforms.ToTensor() # 转换为张量\n",
    "mnist_train = torchvision.datasets.FashionMNIST(\n",
    "    root=\"../data\", train=True, transform=trans, download=True)\n",
    "mnist_test = torchvision.datasets.FashionMNIST(\n",
    "    root=\"../data\", train=False, transform=trans, download=True)"
   ]
  },
  {
   "cell_type": "markdown",
   "id": "a1d2be35",
   "metadata": {
    "origin_pos": 10
   },
   "source": [
    "Fashion-MNIST由10个类别的图像组成，\n",
    "每个类别由*训练数据集*（train dataset）中的6000张图像\n",
    "和*测试数据集*（test dataset）中的1000张图像组成。\n",
    "因此，训练集和测试集分别包含60000和10000张图像。\n",
    "测试数据集不会用于训练，只用于评估模型性能。\n"
   ]
  },
  {
   "cell_type": "code",
   "execution_count": 13,
   "id": "267b4e92",
   "metadata": {
    "ExecuteTime": {
     "start_time": "2023-11-02T07:13:20.989498913Z"
    },
    "execution": {
     "iopub.execute_input": "2022-12-07T16:28:15.083401Z",
     "iopub.status.busy": "2022-12-07T16:28:15.082851Z",
     "iopub.status.idle": "2022-12-07T16:28:15.090099Z",
     "shell.execute_reply": "2022-12-07T16:28:15.089358Z"
    },
    "origin_pos": 11,
    "tab": [
     "pytorch"
    ]
   },
   "outputs": [
    {
     "name": "stdout",
     "output_type": "stream",
     "text": [
      "Dataset FashionMNIST\n",
      "    Number of datapoints: 60000\n",
      "    Root location: ../data\n",
      "    Split: Train\n",
      "    StandardTransform\n",
      "Transform: ToTensor()\n"
     ]
    }
   ],
   "source": [
    "len(mnist_train), len(mnist_test)\n",
    "\n"
   ]
  },
  {
   "cell_type": "markdown",
   "id": "f6dc8fdf",
   "metadata": {
    "origin_pos": 13
   },
   "source": [
    "每个输入图像的高度和宽度均为28像素。\n",
    "数据集由灰度图像组成，其通道数为1。\n",
    "为了简洁起见，本书将高度$h$像素、宽度$w$像素图像的形状记为$h \\times w$或（$h$,$w$）。\n"
   ]
  },
  {
   "cell_type": "code",
   "execution_count": 33,
   "id": "38b77e4d",
   "metadata": {
    "execution": {
     "iopub.execute_input": "2022-12-07T16:28:15.093310Z",
     "iopub.status.busy": "2022-12-07T16:28:15.092799Z",
     "iopub.status.idle": "2022-12-07T16:28:15.098592Z",
     "shell.execute_reply": "2022-12-07T16:28:15.097850Z"
    },
    "origin_pos": 14,
    "tab": [
     "pytorch"
    ]
   },
   "outputs": [
    {
     "name": "stdout",
     "output_type": "stream",
     "text": [
      "torch.Size([1, 28, 28])\n",
      "9\n"
     ]
    }
   ],
   "source": [
    "# 灰度图像的高和宽均为28像素.\n",
    "print(mnist_train[0][0].shape) \n",
    "\n",
    "# 获取对应的标签\n",
    "print(mnist_train[0][1]) \n",
    "\n",
    "# 该数据集第一个维度是样本数据,第二个维度是标签"
   ]
  },
  {
   "cell_type": "markdown",
   "id": "169848dd",
   "metadata": {
    "origin_pos": 15
   },
   "source": [
    "[~~两个可视化数据集的函数~~]\n",
    "\n",
    "Fashion-MNIST中包含的10个类别，分别为t-shirt（T恤）、trouser（裤子）、pullover（套衫）、dress（连衣裙）、coat（外套）、sandal（凉鞋）、shirt（衬衫）、sneaker（运动鞋）、bag（包）和ankle boot（短靴）。\n",
    "以下函数用于在数字标签索引及其文本名称之间进行转换。\n"
   ]
  },
  {
   "cell_type": "code",
   "execution_count": 5,
   "id": "43b28d3a",
   "metadata": {
    "execution": {
     "iopub.execute_input": "2022-12-07T16:28:15.101944Z",
     "iopub.status.busy": "2022-12-07T16:28:15.101317Z",
     "iopub.status.idle": "2022-12-07T16:28:15.105958Z",
     "shell.execute_reply": "2022-12-07T16:28:15.105208Z"
    },
    "origin_pos": 16,
    "tab": [
     "pytorch"
    ]
   },
   "outputs": [
    {
     "data": {
      "text/plain": [
       "['pullover', 'sandal', 'shirt']"
      ]
     },
     "execution_count": 5,
     "metadata": {},
     "output_type": "execute_result"
    }
   ],
   "source": [
    "# 返回值是一个列表,当然输入也是一个列表\n",
    "# 通过输入的索引来获取对应的标签的文本\n",
    "def get_fashion_mnist_labels(labels):  #@save\n",
    "    \"\"\"返回Fashion-MNIST数据集的文本标签\"\"\"\n",
    "    text_labels = ['t-shirt', 'trouser', 'pullover', 'dress', 'coat',\n",
    "                   'sandal', 'shirt', 'sneaker', 'bag', 'ankle boot']\n",
    "    return [text_labels[int(i)] for i in labels]\n",
    "\n",
    "get_fashion_mnist_labels([2,5,6])"
   ]
  },
  {
   "cell_type": "markdown",
   "id": "c4f8012a",
   "metadata": {
    "origin_pos": 17
   },
   "source": [
    "我们现在可以创建一个函数来可视化这些样本。\n"
   ]
  },
  {
   "cell_type": "code",
   "execution_count": 6,
   "id": "8c2ba91b",
   "metadata": {
    "execution": {
     "iopub.execute_input": "2022-12-07T16:28:15.109338Z",
     "iopub.status.busy": "2022-12-07T16:28:15.108722Z",
     "iopub.status.idle": "2022-12-07T16:28:15.114733Z",
     "shell.execute_reply": "2022-12-07T16:28:15.113948Z"
    },
    "origin_pos": 19,
    "tab": [
     "pytorch"
    ]
   },
   "outputs": [],
   "source": [
    "def show_images(imgs, num_rows, num_cols, titles=None, scale=1.5):\n",
    "    \"\"\"\n",
    "    绘制图像列表\n",
    "\n",
    "    Parameters:\n",
    "        imgs (list): 包含要显示的图像的列表\n",
    "        num_rows (int): 图像网格的行数\n",
    "        num_cols (int): 图像网格的列数\n",
    "        titles (list, optional): 包含每个图像标题的列表\n",
    "        scale (float, optional): 图像显示的缩放比例\n",
    "\n",
    "    Returns:\n",
    "        list: 包含所有轴对象的列表\n",
    "    \"\"\"\n",
    "    # 计算图像网格的大小\n",
    "    figsize = (num_cols * scale, num_rows * scale)\n",
    "    \n",
    "    # 获取plt子图\n",
    "    _, axes = d2l.plt.subplots(num_rows, num_cols, figsize=figsize)\n",
    "    # 图像数组平展 利于遍历\n",
    "    axes = axes.flatten()\n",
    "    # 压缩捆绑遍历 python语法之跳跃\n",
    "    for i, (ax, img) in enumerate(zip(axes, imgs)):\n",
    "        if torch.is_tensor(img):\n",
    "            # 图片张量，将其转换为NumPy数组并显示\n",
    "            ax.imshow(img.numpy())\n",
    "        else:\n",
    "            # PIL图片，直接显示\n",
    "            ax.imshow(img)\n",
    "        # 隐藏X轴和Y轴\n",
    "        ax.axes.get_xaxis().set_visible(False)\n",
    "        ax.axes.get_yaxis().set_visible(False)\n",
    "        if titles:\n",
    "            ax.set_title(titles[i])\n",
    "    return axes\n"
   ]
  },
  {
   "cell_type": "markdown",
   "id": "50709460",
   "metadata": {
    "origin_pos": 21
   },
   "source": [
    "以下是训练数据集中前[**几个样本的图像及其相应的标签**]。\n"
   ]
  },
  {
   "cell_type": "code",
   "execution_count": 20,
   "id": "fa163fa2",
   "metadata": {
    "execution": {
     "iopub.execute_input": "2022-12-07T16:28:15.117826Z",
     "iopub.status.busy": "2022-12-07T16:28:15.117433Z",
     "iopub.status.idle": "2022-12-07T16:28:15.845873Z",
     "shell.execute_reply": "2022-12-07T16:28:15.845083Z"
    },
    "origin_pos": 23,
    "tab": [
     "pytorch"
    ]
   },
   "outputs": [
    {
     "name": "stdout",
     "output_type": "stream",
     "text": [
      "torch.Size([18, 1, 28, 28])\n",
      "tensor([9, 0, 0, 3, 0, 2, 7, 2, 5, 5, 0, 9, 5, 5, 7, 9, 1, 0])\n"
     ]
    }
   ],
   "source": [
    "X, y = next(iter(data.DataLoader(mnist_train, batch_size=18)))\n",
    "\n",
    "\n",
    "show_images(X.reshape(18, 28, 28), 2, 9, titles=get_fashion_mnist_labels(y))"
   ]
  },
  {
   "cell_type": "markdown",
   "id": "24f7d468",
   "metadata": {
    "origin_pos": 26
   },
   "source": [
    "## 读取小批量\n",
    "\n",
    "为了使我们在读取训练集和测试集时更容易，我们使用内置的数据迭代器，而不是从零开始创建。\n",
    "回顾一下，在每次迭代中，数据加载器每次都会[**读取一小批量数据，大小为`batch_size`**]。\n",
    "通过内置数据迭代器，我们可以随机打乱了所有样本，从而无偏见地读取小批量。\n"
   ]
  },
  {
   "cell_type": "code",
   "execution_count": 8,
   "id": "9ab9799b",
   "metadata": {
    "execution": {
     "iopub.execute_input": "2022-12-07T16:28:15.849341Z",
     "iopub.status.busy": "2022-12-07T16:28:15.848807Z",
     "iopub.status.idle": "2022-12-07T16:28:15.853250Z",
     "shell.execute_reply": "2022-12-07T16:28:15.852526Z"
    },
    "origin_pos": 28,
    "tab": [
     "pytorch"
    ]
   },
   "outputs": [],
   "source": [
    "batch_size = 256\n",
    "\n",
    "def get_dataloader_workers():  #@save\n",
    "    \"\"\"使用4个进程来读取数据\"\"\"\n",
    "    return 4\n",
    "\n",
    "train_iter = data.DataLoader(mnist_train, batch_size, shuffle=True,\n",
    "                             num_workers=get_dataloader_workers())"
   ]
  },
  {
   "cell_type": "markdown",
   "id": "25fb080e",
   "metadata": {
    "origin_pos": 31
   },
   "source": [
    "我们看一下读取训练数据所需的时间。\n"
   ]
  },
  {
   "cell_type": "code",
   "execution_count": 9,
   "id": "36217872",
   "metadata": {
    "execution": {
     "iopub.execute_input": "2022-12-07T16:28:15.856347Z",
     "iopub.status.busy": "2022-12-07T16:28:15.855959Z",
     "iopub.status.idle": "2022-12-07T16:28:18.047614Z",
     "shell.execute_reply": "2022-12-07T16:28:18.046405Z"
    },
    "origin_pos": 32,
    "tab": [
     "pytorch"
    ]
   },
   "outputs": [
    {
     "data": {
      "text/plain": [
       "'1.63 sec'"
      ]
     },
     "execution_count": 9,
     "metadata": {},
     "output_type": "execute_result"
    }
   ],
   "source": [
    "timer = d2l.Timer()\n",
    "for X, y in train_iter:\n",
    "    continue\n",
    "f'{timer.stop():.2f} sec'"
   ]
  },
  {
   "cell_type": "markdown",
   "id": "37804bdf",
   "metadata": {
    "origin_pos": 33
   },
   "source": [
    "## 整合所有组件\n",
    "\n",
    "现在我们[**定义`load_data_fashion_mnist`函数**]，用于获取和读取Fashion-MNIST数据集。\n",
    "这个函数返回训练集和验证集的数据迭代器。\n",
    "此外，这个函数还接受一个可选参数`resize`，用来将图像大小调整为另一种形状。\n"
   ]
  },
  {
   "cell_type": "code",
   "execution_count": 10,
   "id": "435324a5",
   "metadata": {
    "execution": {
     "iopub.execute_input": "2022-12-07T16:28:18.051337Z",
     "iopub.status.busy": "2022-12-07T16:28:18.050842Z",
     "iopub.status.idle": "2022-12-07T16:28:18.058980Z",
     "shell.execute_reply": "2022-12-07T16:28:18.057872Z"
    },
    "origin_pos": 35,
    "tab": [
     "pytorch"
    ]
   },
   "outputs": [],
   "source": [
    "def load_data_fashion_mnist(batch_size, resize=None):  #@save\n",
    "    \"\"\"下载Fashion-MNIST数据集，然后将其加载到内存中\"\"\"\n",
    "    trans = [transforms.ToTensor()]\n",
    "    if resize:\n",
    "        trans.insert(0, transforms.Resize(resize))\n",
    "    trans = transforms.Compose(trans)\n",
    "    mnist_train = torchvision.datasets.FashionMNIST(\n",
    "        root=\"../data\", train=True, transform=trans, download=True)\n",
    "    mnist_test = torchvision.datasets.FashionMNIST(\n",
    "        root=\"../data\", train=False, transform=trans, download=True)\n",
    "    return (data.DataLoader(mnist_train, batch_size, shuffle=True,\n",
    "                            num_workers=get_dataloader_workers()),\n",
    "            data.DataLoader(mnist_test, batch_size, shuffle=False,\n",
    "                            num_workers=get_dataloader_workers()))"
   ]
  },
  {
   "cell_type": "markdown",
   "id": "4f3edbdd",
   "metadata": {
    "origin_pos": 38
   },
   "source": [
    "下面，我们通过指定`resize`参数来测试`load_data_fashion_mnist`函数的图像大小调整功能。\n"
   ]
  },
  {
   "cell_type": "code",
   "execution_count": 11,
   "id": "8279d5b1",
   "metadata": {
    "execution": {
     "iopub.execute_input": "2022-12-07T16:28:18.062379Z",
     "iopub.status.busy": "2022-12-07T16:28:18.061689Z",
     "iopub.status.idle": "2022-12-07T16:28:18.227129Z",
     "shell.execute_reply": "2022-12-07T16:28:18.226152Z"
    },
    "origin_pos": 39,
    "tab": [
     "pytorch"
    ]
   },
   "outputs": [
    {
     "name": "stdout",
     "output_type": "stream",
     "text": [
      "torch.Size([32, 1, 64, 64]) torch.float32 torch.Size([32]) torch.int64\n"
     ]
    }
   ],
   "source": [
    "train_iter, test_iter = load_data_fashion_mnist(32, resize=64)\n",
    "for X, y in train_iter:\n",
    "    print(X.shape, X.dtype, y.shape, y.dtype)\n",
    "    break"
   ]
  },
  {
   "cell_type": "markdown",
   "id": "189494c5",
   "metadata": {
    "origin_pos": 40
   },
   "source": [
    "我们现在已经准备好使用Fashion-MNIST数据集，便于下面的章节调用来评估各种分类算法。\n",
    "\n",
    "## 小结\n",
    "\n",
    "* Fashion-MNIST是一个服装分类数据集，由10个类别的图像组成。我们将在后续章节中使用此数据集来评估各种分类算法。\n",
    "* 我们将高度$h$像素，宽度$w$像素图像的形状记为$h \\times w$或（$h$,$w$）。\n",
    "* 数据迭代器是获得更高性能的关键组件。依靠实现良好的数据迭代器，利用高性能计算来避免减慢训练过程。\n",
    "\n",
    "## 练习\n",
    "\n",
    "1. 减少`batch_size`（如减少到1）是否会影响读取性能？\n",
    "1. 数据迭代器的性能非常重要。当前的实现足够快吗？探索各种选择来改进它。\n",
    "1. 查阅框架的在线API文档。还有哪些其他数据集可用？\n"
   ]
  },
  {
   "cell_type": "markdown",
   "id": "8d6c34eb",
   "metadata": {
    "origin_pos": 42,
    "tab": [
     "pytorch"
    ]
   },
   "source": [
    "[Discussions](https://discuss.d2l.ai/t/1787)\n"
   ]
  }
 ],
 "metadata": {
  "kernelspec": {
   "display_name": "d2l",
   "language": "python",
   "name": "python3"
  },
  "language_info": {
   "codemirror_mode": {
    "name": "ipython",
    "version": 3
   },
   "file_extension": ".py",
   "mimetype": "text/x-python",
   "name": "python",
   "nbconvert_exporter": "python",
   "pygments_lexer": "ipython3",
   "version": "3.9.18"
  }
 },
 "nbformat": 4,
 "nbformat_minor": 5
}
